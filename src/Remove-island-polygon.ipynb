{
 "cells": [
  {
   "cell_type": "code",
   "execution_count": 7,
   "metadata": {},
   "outputs": [],
   "source": [
    "import os, json\n",
    "from shapely.geometry import Polygon"
   ]
  },
  {
   "cell_type": "code",
   "execution_count": 6,
   "metadata": {},
   "outputs": [],
   "source": [
    "with open(os.path.join('..','data','shapefiles','Krabi.geojson'), 'r') as file:\n",
    "    data = json.load(file)"
   ]
  },
  {
   "cell_type": "markdown",
   "metadata": {},
   "source": [
    "```\n",
    "\"properties\": {\n",
    "    \"TB_EN\": \"Ko Lanta Yai\",\n",
    "    \"AP_EN\": \"Ko Lanta\",\n",
    "    \"AP_TN\": \"เกาะลันตา\",\n",
    "    \"TB_IDN\": \"810301\",\n",
    "    \"TB_TN\": \"เกาะลันตาใหญ่\",\n",
    "    \"PV_TN\": \"กระบี่\",\n",
    "    \"PV_EN\": \"Krabi\",\n",
    "    \"PV_IDN\": \"81\",\n",
    "    \"AP_IDN\": \"8103\"\n",
    "}\n",
    "```"
   ]
  },
  {
   "cell_type": "code",
   "execution_count": 13,
   "metadata": {},
   "outputs": [
    {
     "data": {
      "text/plain": [
       "112"
      ]
     },
     "execution_count": 13,
     "metadata": {},
     "output_type": "execute_result"
    }
   ],
   "source": [
    "len(data['features'])"
   ]
  },
  {
   "cell_type": "code",
   "execution_count": 34,
   "metadata": {
    "scrolled": false
   },
   "outputs": [
    {
     "name": "stdout",
     "output_type": "stream",
     "text": [
      "เกาะลันตา เกาะลันตาใหญ่ 0.00022\n",
      "เกาะลันตา เกาะลันตาใหญ่ 0.00021\n",
      "อ่าวลึก นาเหนือ 0.00626\n",
      "อ่าวลึก เขาใหญ่ 0.00586\n",
      "ปลายพระยา คีรีวง 0.00624\n",
      "เขาพนม หน้าเขา 0.01392\n",
      "อ่าวลึก คลองยา 0.00703\n",
      "อ่าวลึก อ่าวลึกเหนือ 0.0059\n",
      "อ่าวลึก อ่าวลึกใต้ 0.00717\n",
      "อ่าวลึก บ้านกลาง 0.00372\n",
      "อ่าวลึก แหลมสัก\n",
      "0.01116\n",
      "0.0\n",
      "0.00022\n",
      "7e-05\n",
      "===\n",
      "เขาพนม เขาดิน 0.0101\n",
      "อ่าวลึก คลองหิน 0.00873\n",
      "อ่าวลึก อ่าวลึกน้อย\n",
      "0.00907\n",
      "0.0\n",
      "2e-05\n",
      "3e-05\n",
      "1e-05\n",
      "1e-05\n",
      "0.0\n",
      "0.0\n",
      "0.0\n",
      "===\n",
      "เขาพนม สินปุน 0.01059\n",
      "เขาพนม พรุเตียว 0.01343\n",
      "อ่าวลึก None 0.0\n",
      "อ่าวลึก None 2e-05\n",
      "อ่าวลึก None 3e-05\n",
      "อ่าวลึก None 0.0\n",
      "เมืองกระบี่ ทับปริก 0.01258\n",
      "เขาพนม เขาพนม 0.00961\n",
      "อ่าวลึก None 0.00022\n",
      "เมืองกระบี่ เขาคราม\n",
      "0.00974\n",
      "2e-05\n",
      "1e-05\n",
      "1e-05\n",
      "===\n",
      "เมืองกระบี่ กระบี่น้อย 0.01303\n",
      "อ่าวลึก None 7e-05\n",
      "อ่าวลึก None 1e-05\n",
      "เขาพนม โคกหาร 0.01215\n",
      "อ่าวลึก None 1e-05\n",
      "เหนือคลอง ห้วยยูง 0.00971\n",
      "เมืองกระบี่ None 2e-05\n",
      "เมืองกระบี่ None 1e-05\n",
      "อ่าวลึก None 0.0\n",
      "เมืองกระบี่ None 1e-05\n",
      "อ่าวลึก None 0.0\n",
      "เมืองกระบี่ เขาทอง\n",
      "0.015\n",
      "1e-05\n",
      "0.0\n",
      "1e-05\n",
      "1e-05\n",
      "2e-05\n",
      "1e-05\n",
      "1e-05\n",
      "1e-05\n",
      "2e-05\n",
      "2e-05\n",
      "4e-05\n",
      "0.0\n",
      "===\n",
      "อ่าวลึก None 0.0\n",
      "คลองท่อม เพหลา 0.01212\n",
      "เมืองกระบี่ None 1e-05\n",
      "คลองท่อม พรุดินนา 0.01419\n",
      "เหนือคลอง โคกยาง 0.00562\n",
      "เมืองกระบี่ None 0.0\n",
      "ลำทับ ดินอุดม 0.00463\n",
      "ลำทับ ลำทับ 0.00611\n",
      "เมืองกระบี่ หนองทะเล 0.00576\n",
      "ลำทับ ทุ่งไทรทอง 0.00618\n",
      "เหนือคลอง เหนือคลอง 0.00383\n",
      "เมืองกระบี่ None 1e-05\n",
      "เมืองกระบี่ ไสไทย 0.00584\n",
      "เมืองกระบี่ None 1e-05\n",
      "เมืองกระบี่ เขาทอง 2e-05\n",
      "เมืองกระบี่ None 1e-05\n",
      "เมืองกระบี่ None 0.00155\n",
      "เมืองกระบี่ เขาทอง 1e-05\n",
      "เมืองกระบี่ None 2e-05\n",
      "เมืองกระบี่ None 1e-05\n",
      "เมืองกระบี่ None 2e-05\n",
      "เมืองกระบี่ อ่าวนาง 0.00334\n",
      "เมืองกระบี่ คลองประสงค์ 0.00657\n",
      "เมืองกระบี่ None 4e-05\n",
      "เหนือคลอง ปกาสัย 0.00516\n",
      "เหนือคลอง คลองเขม้า 0.00228\n",
      "ลำทับ ดินแดง 0.0062\n",
      "เมืองกระบี่ None 0.0\n",
      "เหนือคลอง คลองขนาน\n",
      "0.00874\n",
      "0.0001\n",
      "===\n",
      "คลองท่อม คลองท่อมเหนือ 0.01567\n",
      "เหนือคลอง ตลิ่งชัน 0.00187\n",
      "คลองท่อม คลองท่อมใต้ 0.00756\n",
      "เมืองกระบี่ None 3e-05\n",
      "เมืองกระบี่ None 4e-05\n",
      "เหนือคลอง คลองขนาน 0.0001\n",
      "คลองท่อม ห้วยน้ำขาว 0.01042\n",
      "เหนือคลอง เกาะศรีบอยา 0.00127\n",
      "เหนือคลอง None 0.00055\n",
      "คลองท่อม คลองพน 0.01662\n",
      "เหนือคลอง เกาะศรีบอยา 6e-05\n",
      "เหนือคลอง เกาะศรีบอยา 0.00113\n",
      "เหนือคลอง None 2e-05\n",
      "เหนือคลอง เกาะศรีบอยา 2e-05\n",
      "เกาะลันตา คลองยาง\n",
      "0.0057\n",
      "5e-05\n",
      "2e-05\n",
      "===\n",
      "เหนือคลอง เกาะศรีบอยา 0.00165\n",
      "เกาะลันตา คลองยาง 2e-05\n",
      "เกาะลันตา คลองยาง 5e-05\n",
      "เหนือคลอง None 2e-05\n",
      "เหนือคลอง None 0.00022\n",
      "เกาะลันตา None 3e-05\n",
      "เกาะลันตา เกาะกลาง 0.00811\n",
      "เมืองกระบี่ None 2e-05\n",
      "เมืองกระบี่ None 2e-05\n",
      "คลองท่อม ทรายขาว 0.01514\n",
      "เหนือคลอง None 2e-05\n",
      "เหนือคลอง None 2e-05\n",
      "เมืองกระบี่ None 0.00081\n",
      "เกาะลันตา None 2e-05\n",
      "เกาะลันตา None 5e-05\n",
      "เกาะลันตา เกาะกลาง 8e-05\n",
      "เกาะลันตา None 0.0001\n",
      "เกาะลันตา None 0.00596\n",
      "เกาะลันตา ศาลาด่าน 0.00275\n",
      "เกาะลันตา None 0.00014\n",
      "เกาะลันตา None 3e-05\n",
      "เกาะลันตา None 1e-05\n",
      "เกาะลันตา None 6e-05\n",
      "เกาะลันตา None 1e-05\n",
      "เกาะลันตา เกาะลันตาใหญ่ 0.00364\n",
      "เกาะลันตา None 1e-05\n",
      "เกาะลันตา เกาะลันตาใหญ่ 0.00013\n",
      "เกาะลันตา เกาะลันตาใหญ่ 2e-05\n",
      "เกาะลันตา เกาะลันตาใหญ่ 0.00028\n",
      "ปลายพระยา เขาต่อ 0.00869\n",
      "ปลายพระยา ปลายพระยา 0.01945\n",
      "ปลายพระยา เขาเขน 0.00911\n"
     ]
    }
   ],
   "source": [
    "for i, feature in enumerate(data['features']):\n",
    "    n_polys = len(feature['geometry']['coordinates'])\n",
    "    if n_polys > 1:\n",
    "        print(feature['properties']['AP_TN'], feature['properties']['TB_TN'])\n",
    "        for poly in feature['geometry']['coordinates']:\n",
    "            print(round(Polygon(poly).area,5))\n",
    "        print('===')\n",
    "    else:\n",
    "        print(feature['properties']['AP_TN'], feature['properties']['TB_TN'], round(Polygon(feature['geometry']['coordinates'][0]).area,5))\n"
   ]
  },
  {
   "cell_type": "code",
   "execution_count": 18,
   "metadata": {},
   "outputs": [
    {
     "data": {
      "text/plain": [
       "1"
      ]
     },
     "execution_count": 18,
     "metadata": {},
     "output_type": "execute_result"
    }
   ],
   "source": [
    "len([0])"
   ]
  },
  {
   "cell_type": "code",
   "execution_count": null,
   "metadata": {},
   "outputs": [],
   "source": []
  }
 ],
 "metadata": {
  "kernelspec": {
   "display_name": "Python 3",
   "language": "python",
   "name": "python3"
  },
  "language_info": {
   "codemirror_mode": {
    "name": "ipython",
    "version": 3
   },
   "file_extension": ".py",
   "mimetype": "text/x-python",
   "name": "python",
   "nbconvert_exporter": "python",
   "pygments_lexer": "ipython3",
   "version": "3.5.2"
  }
 },
 "nbformat": 4,
 "nbformat_minor": 2
}
