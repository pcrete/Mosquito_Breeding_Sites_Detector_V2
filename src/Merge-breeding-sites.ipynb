{
 "cells": [
  {
   "cell_type": "markdown",
   "metadata": {},
   "source": [
    "# Merge Breeding Sites from Specified Area"
   ]
  },
  {
   "cell_type": "code",
   "execution_count": 1,
   "metadata": {},
   "outputs": [],
   "source": [
    "import csv, os, json\n",
    "import pandas as pd\n",
    "from tqdm import tqdm_notebook\n",
    "from glob import glob"
   ]
  },
  {
   "cell_type": "markdown",
   "metadata": {},
   "source": [
    "## List \"brd_sites.geojson\" files for each subdistrict"
   ]
  },
  {
   "cell_type": "code",
   "execution_count": 10,
   "metadata": {
    "scrolled": true
   },
   "outputs": [
    {
     "name": "stdout",
     "output_type": "stream",
     "text": [
      "Length: 165\n",
      "Sample path: ../data/GSV/กรุงเทพมหานคร/เขตลาดกระบัง/แขวงขุมทอง/brd_sites.geojson\n"
     ]
    }
   ],
   "source": [
    "brd_sites_paths = glob(os.path.join('..','data','GSV','กรุงเทพมหานคร','*','*', 'brd_sites.geojson'))\n",
    "print('Length:', len(brd_sites_paths))\n",
    "print('Sample path:', brd_sites_paths[0])"
   ]
  },
  {
   "cell_type": "markdown",
   "metadata": {},
   "source": [
    "## Iterating over \"brd_sites_paths\" list "
   ]
  },
  {
   "cell_type": "code",
   "execution_count": 11,
   "metadata": {},
   "outputs": [],
   "source": [
    "merged_geojson = {\n",
    "    'type': 'FeatureCollection',\n",
    "    'features': []\n",
    "}\n",
    "\n",
    "for path in brd_sites_paths:\n",
    "    \n",
    "    if not os.path.exists(path): \n",
    "        continue\n",
    "    \n",
    "    with open(path) as file:\n",
    "        data = json.load(file)\n",
    "        \n",
    "    merged_geojson['features'] += data['features']"
   ]
  },
  {
   "cell_type": "markdown",
   "metadata": {},
   "source": [
    "## Total number of locations where breeding site containers are detected"
   ]
  },
  {
   "cell_type": "code",
   "execution_count": 12,
   "metadata": {},
   "outputs": [
    {
     "name": "stdout",
     "output_type": "stream",
     "text": [
      "Total features: 79103\n"
     ]
    }
   ],
   "source": [
    "print('Total features:', len(merged_geojson['features']))"
   ]
  },
  {
   "cell_type": "markdown",
   "metadata": {},
   "source": [
    "## Export to geojson file"
   ]
  },
  {
   "cell_type": "code",
   "execution_count": 18,
   "metadata": {},
   "outputs": [],
   "source": [
    "with open(os.path.join('..', 'data', 'breeding-sites','geojson','ฺBangkok-detection.geojson'), 'w') as fp: \n",
    "        json.dump(\n",
    "            merged_geojson, fp,\n",
    "            ensure_ascii=False, \n",
    "            sort_keys=True, \n",
    "            indent=4, \n",
    "            separators=(',', ': ')\n",
    "        )"
   ]
  }
 ],
 "metadata": {
  "kernelspec": {
   "display_name": "Python 3",
   "language": "python",
   "name": "python3"
  },
  "language_info": {
   "codemirror_mode": {
    "name": "ipython",
    "version": 3
   },
   "file_extension": ".py",
   "mimetype": "text/x-python",
   "name": "python",
   "nbconvert_exporter": "python",
   "pygments_lexer": "ipython3",
   "version": "3.5.2"
  }
 },
 "nbformat": 4,
 "nbformat_minor": 2
}
