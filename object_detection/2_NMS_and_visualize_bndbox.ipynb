{
 "cells": [
  {
   "cell_type": "markdown",
   "metadata": {},
   "source": [
    "## Bounding Boxes Visualization\n",
    "Option: enable Non-maximum suppression to decrease bounding box overlap"
   ]
  },
  {
   "cell_type": "code",
   "execution_count": 1,
   "metadata": {},
   "outputs": [
    {
     "data": {
      "text/html": [
       "<style>.container { width:100% !important; }</style>"
      ],
      "text/plain": [
       "<IPython.core.display.HTML object>"
      ]
     },
     "metadata": {},
     "output_type": "display_data"
    }
   ],
   "source": [
    "from IPython.core.display import display, HTML\n",
    "display(HTML(\"<style>.container { width:100% !important; }</style>\"))\n",
    "\n",
    "import numpy as np\n",
    "import os\n",
    "import six.moves.urllib as urllib\n",
    "import sys\n",
    "import tarfile\n",
    "import tensorflow as tf\n",
    "import zipfile\n",
    "import time\n",
    "import collections\n",
    "import json\n",
    "import scipy.misc\n",
    "\n",
    "from collections import defaultdict\n",
    "from io import StringIO\n",
    "from matplotlib import pyplot as plt\n",
    "from PIL import Image\n",
    "from tqdm import tqdm_notebook\n",
    "%matplotlib inline\n",
    "\n",
    "sys.path.insert(0,os.path.abspath(\"..\"))\n",
    "from utils import label_map_util\n",
    "from utils import visualization_utils as vis_util"
   ]
  },
  {
   "cell_type": "markdown",
   "metadata": {},
   "source": [
    "## Helper function to load image"
   ]
  },
  {
   "cell_type": "code",
   "execution_count": 2,
   "metadata": {},
   "outputs": [],
   "source": [
    "def load_image_into_numpy_array(image):\n",
    "    im_width, im_height = image.size\n",
    "    return np.array(image.getdata()).reshape((im_height, im_width, 3)).astype(np.uint8)"
   ]
  },
  {
   "cell_type": "markdown",
   "metadata": {},
   "source": [
    "## Define detection thresholds"
   ]
  },
  {
   "cell_type": "code",
   "execution_count": 3,
   "metadata": {},
   "outputs": [],
   "source": [
    "breading_index ={1: {'id': 1, 'name': 'bin',         'threshold':0.5},\n",
    "                 2: {'id': 2, 'name': 'bowl',        'threshold':0.5},\n",
    "                 3: {'id': 3, 'name': 'bucket',      'threshold':0.5},\n",
    "                 4: {'id': 4, 'name': 'car',         'threshold':0.5},\n",
    "                 5: {'id': 5, 'name': 'cup',         'threshold':0.5},\n",
    "                 6: {'id': 6, 'name': 'jar',         'threshold':0.5},\n",
    "                 7: {'id': 7, 'name': 'pottedplant', 'threshold':0.5},\n",
    "                 8: {'id': 8, 'name': 'tire',        'threshold':0.5},\n",
    "                 9: {'id': 9, 'name': 'vase',        'threshold':0.5}}"
   ]
  },
  {
   "cell_type": "markdown",
   "metadata": {},
   "source": [
    "## Get the list of directories or subdistricts\n",
    "That contains path_to_directory, province, district, and subdistrict "
   ]
  },
  {
   "cell_type": "code",
   "execution_count": 4,
   "metadata": {},
   "outputs": [
    {
     "name": "stdout",
     "output_type": "stream",
     "text": [
      "['../data/GSV', 'กรุงเทพมหานคร', 'เขตดุสิต', 'แขวงสวนจิตรลดา']\n"
     ]
    }
   ],
   "source": [
    "directories = []\n",
    "\n",
    "province = 'กรุงเทพมหานคร'\n",
    "DIR = '../data/GSV'\n",
    "\n",
    "districts = os.listdir(os.path.join(DIR, province))\n",
    "for district in districts:\n",
    "    subdists = os.listdir(os.path.join(DIR, province, district))\n",
    "    for subdist in subdists:\n",
    "        directories.append([DIR, province, district, subdist])\n",
    "\n",
    "print(directories[0])"
   ]
  },
  {
   "cell_type": "code",
   "execution_count": 5,
   "metadata": {
    "scrolled": false
   },
   "outputs": [
    {
     "name": "stdout",
     "output_type": "stream",
     "text": [
      "Index: 0 :\tDirectory: ../data/GSV/กรุงเทพมหานคร/เขตดุสิต/แขวงสวนจิตรลดา \tTotal: 1 images\n"
     ]
    },
    {
     "data": {
      "application/vnd.jupyter.widget-view+json": {
       "model_id": "4d49b5a712454f06b36231404f3c9f37",
       "version_major": 2,
       "version_minor": 0
      },
      "text/html": [
       "<p>Failed to display Jupyter Widget of type <code>HBox</code>.</p>\n",
       "<p>\n",
       "  If you're reading this message in the Jupyter Notebook or JupyterLab Notebook, it may mean\n",
       "  that the widgets JavaScript is still loading. If this message persists, it\n",
       "  likely means that the widgets JavaScript library is either not installed or\n",
       "  not enabled. See the <a href=\"https://ipywidgets.readthedocs.io/en/stable/user_install.html\">Jupyter\n",
       "  Widgets Documentation</a> for setup instructions.\n",
       "</p>\n",
       "<p>\n",
       "  If you're reading this message in another frontend (for example, a static\n",
       "  rendering on GitHub or <a href=\"https://nbviewer.jupyter.org/\">NBViewer</a>),\n",
       "  it may mean that your frontend doesn't currently support widgets.\n",
       "</p>\n"
      ],
      "text/plain": [
       "HBox(children=(IntProgress(value=0, max=1), HTML(value='')))"
      ]
     },
     "metadata": {},
     "output_type": "display_data"
    },
    {
     "name": "stdout",
     "output_type": "stream",
     "text": [
      "\n",
      "Bnd: 1 images\n"
     ]
    },
    {
     "name": "stderr",
     "output_type": "stream",
     "text": [
      "/home/poom/.local/lib/python3.5/site-packages/ipykernel_launcher.py:50: DeprecationWarning: `imsave` is deprecated!\n",
      "`imsave` is deprecated in SciPy 1.0.0, and will be removed in 1.2.0.\n",
      "Use ``imageio.imwrite`` instead.\n"
     ]
    }
   ],
   "source": [
    "# sess = tf.InteractiveSession()\n",
    "\n",
    "last = 0\n",
    "for k, directory in enumerate(directories[last:]):\n",
    "    DIR, province, district, subdist = directory\n",
    "    directory = os.path.join(DIR, province, district, subdist)\n",
    "    \n",
    "    image_path = os.path.join(directory, 'original')\n",
    "    if not os.path.exists(image_path): continue\n",
    "    \n",
    "    FILES = os.listdir(image_path)\n",
    "    \n",
    "    print('Index:',k+last,':\\tDirectory:',directory, '\\tTotal:',len(FILES),'images')\n",
    "    \n",
    "    if not os.path.exists(os.path.join(directory, 'bnd_img')):\n",
    "        os.makedirs(os.path.join(directory, 'bnd_img'))        \n",
    "    \n",
    "    count_bnd_img = 0\n",
    "    json_list = os.listdir(os.path.join(directory, 'json'))\n",
    "    for json_file in tqdm_notebook(json_list):\n",
    "        PATH = os.path.join(directory, 'json', json_file)\n",
    "        with open(PATH) as file:\n",
    "            data = json.load(file)\n",
    "\n",
    "        if(len(data['breading_boxes']) == 0): continue\n",
    "\n",
    "        boxes, classes, scores = [], [], []\n",
    "        for index in data['breading_boxes']:\n",
    "            boxes.append(data['boxes'][index]['bndbox'])\n",
    "            scores.append(data['boxes'][index]['score'])\n",
    "            classes.append(data['boxes'][index]['cls_id'])\n",
    "\n",
    "        boxes = np.array(boxes)\n",
    "        scores = np.array(scores)\n",
    "        classes = np.array(classes)\n",
    "        \n",
    "        image = Image.open(os.path.join(directory, 'original', data['image_name']))\n",
    "        image_np = load_image_into_numpy_array(image)\n",
    "        vis_util.visualize_boxes_and_labels_on_image_array(\n",
    "            image_np,\n",
    "            boxes,\n",
    "            classes,\n",
    "            scores,\n",
    "            breading_index,\n",
    "            use_normalized_coordinates=True,\n",
    "            line_thickness=1,\n",
    "            max_boxes_to_draw=len(scores),\n",
    "            min_score_thresh=0)\n",
    "\n",
    "        scipy.misc.imsave(os.path.join(directory, 'bnd_img', data['image_name'][:-4]+'_bnd.jpg'), image_np)\n",
    "        count_bnd_img +=1\n",
    "        \n",
    "    print('Bnd:', count_bnd_img, 'images')\n",
    "\n",
    "# sess.close()    "
   ]
  },
  {
   "cell_type": "markdown",
   "metadata": {},
   "source": [
    "## Option: Non-maximum suppression"
   ]
  },
  {
   "cell_type": "code",
   "execution_count": 6,
   "metadata": {},
   "outputs": [],
   "source": [
    "#     nms = tf.image.non_max_suppression(boxes, scores, len(scores), iou_threshold=0.3)\n",
    "#     nms = sess.run(nms).astype(int)\n",
    "\n",
    "#     cls_count = {}\n",
    "#     for cls in classes[nms]:\n",
    "#         name = breading_index[cls]['name']\n",
    "#         if(name not in cls_count):\n",
    "#             cls_count[name] = 0\n",
    "#         cls_count[name] += 1\n",
    "\n",
    "#     data['nms_indexes'] = nms.tolist()\n",
    "#     data['nms_count'] = cls_count\n",
    "\n",
    "#     with open(PATH, 'w') as file:\n",
    "#         file.write(json.dumps(data, sort_keys=True, indent=4, separators=(',', ': ')))\n",
    "        \n",
    "    # ======================= Visualize bounding box =====================================\n",
    "\n",
    "#     image = Image.open(os.path.join(directory, 'original', data['image_name']))\n",
    "#     image_np = load_image_into_numpy_array(image)\n",
    "#     vis_util.visualize_boxes_and_labels_on_image_array(\n",
    "#         image_np,\n",
    "#         boxes[nms],\n",
    "#         classes[nms],\n",
    "#         scores[nms],\n",
    "#         breading_index,\n",
    "#         use_normalized_coordinates=True,\n",
    "#         line_thickness=1,\n",
    "#         max_boxes_to_draw=len(scores),\n",
    "#         min_score_thresh=0)\n",
    "\n",
    "#     scipy.misc.imsave(os.path.join(directory, 'bnd_img', data['image_name'][:-4]+'_nms_no_label.jpg'), image_np)\n"
   ]
  }
 ],
 "metadata": {
  "kernelspec": {
   "display_name": "Python 3",
   "language": "python",
   "name": "python3"
  },
  "language_info": {
   "codemirror_mode": {
    "name": "ipython",
    "version": 3
   },
   "file_extension": ".py",
   "mimetype": "text/x-python",
   "name": "python",
   "nbconvert_exporter": "python",
   "pygments_lexer": "ipython3",
   "version": "3.5.2"
  }
 },
 "nbformat": 4,
 "nbformat_minor": 2
}
