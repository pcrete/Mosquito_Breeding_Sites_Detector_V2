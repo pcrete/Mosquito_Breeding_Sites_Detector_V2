{
 "cells": [
  {
   "cell_type": "markdown",
   "metadata": {},
   "source": [
    "# GeoJSON Construction"
   ]
  },
  {
   "cell_type": "code",
   "execution_count": 1,
   "metadata": {},
   "outputs": [
    {
     "data": {
      "text/html": [
       "<style>.container { width:100% !important; }</style>"
      ],
      "text/plain": [
       "<IPython.core.display.HTML object>"
      ]
     },
     "metadata": {},
     "output_type": "display_data"
    }
   ],
   "source": [
    "from IPython.core.display import display, HTML\n",
    "display(HTML(\"<style>.container { width:100% !important; }</style>\"))\n",
    "\n",
    "import csv \n",
    "import os \n",
    "import json \n",
    "from tqdm import tqdm_notebook\n",
    "import pandas as pd"
   ]
  },
  {
   "cell_type": "markdown",
   "metadata": {},
   "source": [
    "## Create breeding site GeoJSON information from Raw JSON files "
   ]
  },
  {
   "cell_type": "code",
   "execution_count": 2,
   "metadata": {},
   "outputs": [],
   "source": [
    "def insert_data(SUM, Feature, row):\n",
    "     \n",
    "    if(len(row['breading_boxes']) != 0):\n",
    "        sum_each = 0\n",
    "        for cls in row['count']:\n",
    "            sum_each += row['count'][cls]\n",
    "\n",
    "        Feature['properties']['brd_sites'][str(row['angle'])] = {'count': row['count']}\n",
    "        Feature['properties']['brd_sites'][str(row['angle'])]['sum_each'] = sum_each\n",
    "        SUM += sum_each\n",
    "    \n",
    "    return SUM, Feature\n",
    "\n",
    "def run(directory):\n",
    "    SUM = 0\n",
    "    base_coor = ''\n",
    "    check_coor = []\n",
    "    GeoJSON = {} \n",
    "    GeoJSON['type'] = \"FeatureCollection\" \n",
    "    GeoJSON['features'] = []\n",
    "    Feature = {}\n",
    "    \n",
    "    json_list = os.listdir(os.path.join(directory, 'json'))\n",
    "    json_list.sort()\n",
    "    \n",
    "    for json_file in tqdm_notebook(json_list):\n",
    "        \n",
    "        with open(os.path.join(directory, 'json', json_file)) as file:\n",
    "            row = json.load(file)\n",
    "            \n",
    "        lat, lng = row['coordinate']\n",
    "        coor = str(lat)+'_'+str(lng)\n",
    "        \n",
    "        if(base_coor == coor):\n",
    "            SUM, Feature = insert_data(SUM, Feature, row)\n",
    "        else:\n",
    "            base_coor = coor\n",
    "            if(SUM != 0):\n",
    "                Feature['properties']['sum'] = SUM\n",
    "                GeoJSON['features'].append(Feature)\n",
    "                SUM = 0\n",
    "            \n",
    "            \n",
    "            Feature = { \n",
    "                'type': \"Feature\", \n",
    "                   'geometry':{ \n",
    "                       'type':\"Point\",\n",
    "                       'coordinates':[float(lng),float(lat)] \n",
    "                   },\n",
    "                'properties':{\n",
    "                    'image_name': coor, \n",
    "                    'brd_sites':{},\n",
    "                    'date':{\n",
    "                        'month':row['date']['month'], \n",
    "                        'year':row['date']['year']\n",
    "                    },\n",
    "                    'province':row['province'],\n",
    "                    'district':row['district'],\n",
    "                    'subdist':row['subdist']\n",
    "                  }\n",
    "              }\n",
    "            SUM, Feature = insert_data(SUM, Feature, row)\n",
    "    \n",
    "    # last row will not be detected in for loop\n",
    "    if(SUM != 0):\n",
    "        Feature['properties']['sum'] = SUM\n",
    "        GeoJSON['features'].append(Feature)\n",
    "        SUM = 0\n",
    "\n",
    "    with open(os.path.join(directory,'brd_sites.js'), 'w') as f: \n",
    "        f.write('brd_sites('+json.dumps(GeoJSON, ensure_ascii=False, sort_keys=True, indent=4, separators=(',', ': '))+')')\n",
    "        \n",
    "    with open(os.path.join(directory,'brd_sites.geojson'), 'w') as f: \n",
    "        f.write(json.dumps(GeoJSON, ensure_ascii=False, sort_keys=True, indent=4, separators=(',', ': ')))"
   ]
  },
  {
   "cell_type": "markdown",
   "metadata": {},
   "source": [
    "## Get the list of directories or subdistricts\n",
    "That contains path_to_directory, province, district, and subdistrict "
   ]
  },
  {
   "cell_type": "code",
   "execution_count": 3,
   "metadata": {
    "scrolled": false
   },
   "outputs": [
    {
     "name": "stdout",
     "output_type": "stream",
     "text": [
      "['../data/GSV', 'กรุงเทพมหานคร', 'เขตดุสิต', 'แขวงสวนจิตรลดา']\n"
     ]
    }
   ],
   "source": [
    "directories = []\n",
    "\n",
    "province = 'กรุงเทพมหานคร'\n",
    "DIR = '../data/GSV'\n",
    "\n",
    "districts = os.listdir(os.path.join(DIR, province))\n",
    "for district in districts:\n",
    "    subdists = os.listdir(os.path.join(DIR, province, district))\n",
    "    for subdist in subdists:\n",
    "        directories.append([DIR, province, district, subdist])\n",
    "\n",
    "print(directories[0])"
   ]
  },
  {
   "cell_type": "markdown",
   "metadata": {},
   "source": [
    "## Iterating though directories"
   ]
  },
  {
   "cell_type": "code",
   "execution_count": 4,
   "metadata": {
    "scrolled": false
   },
   "outputs": [
    {
     "name": "stdout",
     "output_type": "stream",
     "text": [
      "Index: 0 :\tDirectory: ../data/GSV/กรุงเทพมหานคร/เขตดุสิต/แขวงสวนจิตรลดา \tTotal: 1 images\n"
     ]
    },
    {
     "data": {
      "application/vnd.jupyter.widget-view+json": {
       "model_id": "4ccfcd2e71164f898674f0a0d06fc29e",
       "version_major": 2,
       "version_minor": 0
      },
      "text/html": [
       "<p>Failed to display Jupyter Widget of type <code>HBox</code>.</p>\n",
       "<p>\n",
       "  If you're reading this message in the Jupyter Notebook or JupyterLab Notebook, it may mean\n",
       "  that the widgets JavaScript is still loading. If this message persists, it\n",
       "  likely means that the widgets JavaScript library is either not installed or\n",
       "  not enabled. See the <a href=\"https://ipywidgets.readthedocs.io/en/stable/user_install.html\">Jupyter\n",
       "  Widgets Documentation</a> for setup instructions.\n",
       "</p>\n",
       "<p>\n",
       "  If you're reading this message in another frontend (for example, a static\n",
       "  rendering on GitHub or <a href=\"https://nbviewer.jupyter.org/\">NBViewer</a>),\n",
       "  it may mean that your frontend doesn't currently support widgets.\n",
       "</p>\n"
      ],
      "text/plain": [
       "HBox(children=(IntProgress(value=0, max=1), HTML(value='')))"
      ]
     },
     "metadata": {},
     "output_type": "display_data"
    },
    {
     "name": "stdout",
     "output_type": "stream",
     "text": [
      "\n"
     ]
    }
   ],
   "source": [
    "last = 0\n",
    "for k, directory in enumerate(directories[last:]):\n",
    "    DIR, province, district, subdist = directory\n",
    "    directory = os.path.join(DIR, province, district, subdist)\n",
    "    \n",
    "    image_path = os.path.join(directory, 'original')\n",
    "    if not os.path.exists(image_path): continue\n",
    "    \n",
    "    FILES = os.listdir(image_path)\n",
    "    \n",
    "    print('Index:',k+last,':\\tDirectory:',directory, '\\tTotal:',len(FILES),'images')\n",
    "    run(directory)"
   ]
  }
 ],
 "metadata": {
  "kernelspec": {
   "display_name": "Python 3",
   "language": "python",
   "name": "python3"
  },
  "language_info": {
   "codemirror_mode": {
    "name": "ipython",
    "version": 3
   },
   "file_extension": ".py",
   "mimetype": "text/x-python",
   "name": "python",
   "nbconvert_exporter": "python",
   "pygments_lexer": "ipython3",
   "version": "3.5.2"
  }
 },
 "nbformat": 4,
 "nbformat_minor": 2
}
